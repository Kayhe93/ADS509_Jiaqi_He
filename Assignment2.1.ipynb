{
 "cells": [
  {
   "cell_type": "markdown",
   "id": "666ae506",
   "metadata": {},
   "source": [
    "## ADS 509 Assignment 2.1: Tokenization, Normalization, Descriptive Statistics"
   ]
  },
  {
   "cell_type": "code",
   "execution_count": 1,
   "id": "1e4c43b7",
   "metadata": {},
   "outputs": [],
   "source": [
    "import os\n",
    "import re\n",
    "import emoji\n",
    "import pandas as pd\n",
    "import numpy as np\n",
    "import nltk\n",
    "import glob\n",
    "import matplotlib.pyplot as plt\n",
    "import seaborn as sns\n",
    "\n",
    "from collections import Counter, defaultdict\n",
    "from nltk.corpus import stopwords\n",
    "from string import punctuation\n",
    "\n",
    "sw = stopwords.words(\"english\")"
   ]
  },
  {
   "cell_type": "code",
   "execution_count": 2,
   "id": "5deb68ff",
   "metadata": {},
   "outputs": [],
   "source": [
    "# change `data_location` to the location of the folder on your machine.\n",
    "data_location = \"/users/kayan/Desktop/M1_Results/\"\n",
    "\n",
    "# These subfolders should still work if you correctly stored the \n",
    "# data from the Module 1 assignment\n",
    "twitter_folder = \"twitter/\"\n",
    "lyrics_folder = \"lyrics/\""
   ]
  },
  {
   "cell_type": "code",
   "execution_count": 3,
   "id": "044d0e02",
   "metadata": {},
   "outputs": [],
   "source": [
    "def descriptive_stats(tokens, num_tokens=5, verbose=True):\n",
    "    \"\"\"\n",
    "    Given a list of tokens, print the number of tokens, number of unique tokens,\n",
    "    number of characters, lexical diversity, and display the most common tokens.\n",
    "    Return a list with the number of tokens, number of unique tokens,\n",
    "    lexical diversity, and number of characters.\n",
    "    \"\"\"\n",
    "\n",
    "    # Calculate the number of tokens\n",
    "    num_tokens = len(tokens)\n",
    "\n",
    "    # Calculate the number of unique tokens\n",
    "    num_unique_tokens = len(set(tokens))\n",
    "\n",
    "    # Calculate the number of characters\n",
    "    num_characters = sum(len(token) for token in tokens)\n",
    "\n",
    "    # Calculate lexical diversity\n",
    "    lexical_diversity = num_unique_tokens / num_tokens\n",
    "\n",
    "    if verbose:\n",
    "        print(f\"There are {num_tokens} tokens in the data.\")\n",
    "        print(f\"There are {num_unique_tokens} unique tokens in the data.\")\n",
    "        print(f\"There are {num_characters} characters in the data.\")\n",
    "        print(f\"The lexical diversity is {lexical_diversity:.3f} in the data.\")\n",
    "\n",
    "        # Display the most common tokens\n",
    "        common_tokens = Counter(tokens).most_common(num_tokens)\n",
    "        print(f\"The {num_tokens} most common tokens are:\")\n",
    "        for token, count in common_tokens:\n",
    "            print(f\"{token}: {count} times\")\n",
    "\n",
    "    return [num_tokens, num_unique_tokens, lexical_diversity, num_characters]"
   ]
  },
  {
   "cell_type": "code",
   "execution_count": 4,
   "id": "ad9deff9",
   "metadata": {
    "scrolled": false
   },
   "outputs": [
    {
     "name": "stdout",
     "output_type": "stream",
     "text": [
      "There are 13 tokens in the data.\n",
      "There are 9 unique tokens in the data.\n",
      "There are 55 characters in the data.\n",
      "The lexical diversity is 0.692 in the data.\n",
      "The 13 most common tokens are:\n",
      "text: 3 times\n",
      "here: 2 times\n",
      "example: 2 times\n",
      "is: 1 times\n",
      "some: 1 times\n",
      "with: 1 times\n",
      "other: 1 times\n",
      "in: 1 times\n",
      "this: 1 times\n"
     ]
    }
   ],
   "source": [
    "text = \"\"\"here is some example text with other example text here in this text\"\"\".split()\n",
    "assert(descriptive_stats(text, verbose=True)[0] == 13)\n",
    "assert(descriptive_stats(text, verbose=False)[1] == 9)\n",
    "assert(abs(descriptive_stats(text, verbose=False)[2] - 0.69) < 0.02)\n",
    "assert(descriptive_stats(text, verbose=False)[3] == 55)\n"
   ]
  },
  {
   "cell_type": "markdown",
   "id": "c4dbdf07",
   "metadata": {},
   "source": [
    "Q: Why is it beneficial to use assertion statements in your code?\n",
    "\n",
    "A: Assertions are a fundamental tool for automated testing. The code includes assertions that check specific conditions, providing a way to verify that the descriptive_stats function behaves as expected."
   ]
  },
  {
   "cell_type": "markdown",
   "id": "3931ed88",
   "metadata": {},
   "source": [
    "## Data Input"
   ]
  },
  {
   "cell_type": "code",
   "execution_count": 5,
   "id": "c136e7d5",
   "metadata": {},
   "outputs": [],
   "source": [
    "# Read in the lyrics data\n",
    "lyrics_folder_path = os.path.join(data_location, lyrics_folder)\n",
    "\n",
    "# List all subfolders in the \"lyrics\" folder\n",
    "artist_folders = [f for f in os.listdir(lyrics_folder_path) if os.path.isdir(os.path.join(lyrics_folder_path, f))]\n",
    "\n",
    "# Create an empty list to store the content of each file\n",
    "lyrics_data = []\n",
    "\n",
    "# Iterate over each artist folder\n",
    "for artist_folder in artist_folders:\n",
    "    artist_folder_path = os.path.join(lyrics_folder_path, artist_folder)\n",
    "    \n",
    "    # List all text files in the current artist folder\n",
    "    text_files = [f for f in os.listdir(artist_folder_path) if f.endswith('.txt')]\n",
    "\n",
    "    # Iterate over each text file in the current artist folder\n",
    "    for text_file in text_files:\n",
    "        file_path = os.path.join(artist_folder_path, text_file)\n",
    "        \n",
    "        with open(file_path, 'r', encoding='utf-8') as file:\n",
    "            content = file.read()\n",
    "            lyrics_data.append({'artist': artist_folder, 'file_name': text_file, 'content': content})"
   ]
  },
  {
   "cell_type": "code",
   "execution_count": 6,
   "id": "d13675b5",
   "metadata": {},
   "outputs": [],
   "source": [
    "# Read in the twitter data-new\n",
    "twitter_folder_path = os.path.join(data_location, twitter_folder)\n",
    "\n",
    "# List all subfolders in the \"lyrics\" folder\n",
    "artist_folders_t = [f for f in os.listdir(twitter_folder_path) if os.path.isdir(os.path.join(twitter_folder_path, f))]\n",
    "\n",
    "# Create an empty list to store the content of each file\n",
    "twitter_data = []\n",
    "\n",
    "# Iterate over each artist folder\n",
    "for artist_folder_t in artist_folders_t:\n",
    "    artist_folder_t_path = os.path.join(twitter_folder_path, artist_folder_t)\n",
    "    \n",
    "    # List all text files in the current artist folder\n",
    "    text_files = [f for f in os.listdir(artist_folder_t_path) if f.endswith('.txt')]\n",
    "\n",
    "    # Iterate over each text file in the current artist folder\n",
    "    for text_file in text_files:\n",
    "        file_path = os.path.join(artist_folder_t_path, text_file)\n",
    "        \n",
    "        with open(file_path, 'r', encoding='utf-8') as file:\n",
    "            content = file.read()\n",
    "            twitter_data.append({'artist': artist_folder, 'file_name': text_file, 'content': content})"
   ]
  },
  {
   "cell_type": "markdown",
   "id": "5ae39916",
   "metadata": {},
   "source": [
    "## Data Cleaning"
   ]
  },
  {
   "cell_type": "code",
   "execution_count": 7,
   "id": "173a9402",
   "metadata": {},
   "outputs": [],
   "source": [
    "punctuation = set(punctuation) # speeds up comparison"
   ]
  },
  {
   "cell_type": "code",
   "execution_count": 8,
   "id": "7c2c3e6a",
   "metadata": {},
   "outputs": [],
   "source": [
    "# create your clean twitter data here-new\n",
    "def clean_and_tokenize(text):\n",
    "    # Remove punctuation characters\n",
    "    text = ''.join([char for char in text if char not in punctuation])\n",
    "    # Split on whitespace\n",
    "    tokens = text.split()\n",
    "    # Fold to lowercase\n",
    "    tokens = [token.lower() for token in tokens]\n",
    "    # Remove stopwords\n",
    "    tokens = [token for token in tokens if token not in sw]\n",
    "    return tokens\n",
    "\n",
    "twitter_folder_path = os.path.join(data_location, twitter_folder)\n",
    "\n",
    "# List all subfolders in the \"lyrics\" folder\n",
    "artist_folders_t = [f for f in os.listdir(twitter_folder_path) if os.path.isdir(os.path.join(twitter_folder_path, f))]\n",
    "\n",
    "# Create an empty list to store the content of each file\n",
    "twitter_data = []\n",
    "\n",
    "# Iterate over each artist folder\n",
    "for artist_folder_t in artist_folders_t:\n",
    "    artist_folder_t_path = os.path.join(twitter_folder_path, artist_folder_t)\n",
    "    \n",
    "    # List all text files in the current artist folder\n",
    "    text_files = [f for f in os.listdir(artist_folder_t_path) if f.endswith('.txt')]\n",
    "\n",
    "    # Iterate over each text file in the current artist folder\n",
    "    for text_file in text_files:\n",
    "        file_path = os.path.join(artist_folder_t_path, text_file)\n",
    "        \n",
    "        with open(file_path, 'r', encoding='utf-8') as file:\n",
    "            content = file.read()\n",
    "            cleaned_tokens = clean_and_tokenize(content)\n",
    "            \n",
    "            # Store the cleaned and tokenized data in the 'lyrics_data' list\n",
    "            twitter_data.append({'artist': artist_folder, 'file_name': text_file, 'content': content, 'cleaned_tokens': cleaned_tokens})\n",
    "\n",
    "# Create a DataFrame from the 'lyrics_data' list\n",
    "twitter_df = pd.DataFrame(twitter_data)"
   ]
  },
  {
   "cell_type": "code",
   "execution_count": 9,
   "id": "8c963963",
   "metadata": {},
   "outputs": [],
   "source": [
    "# create your clean lyrics data here\n",
    "def clean_and_tokenize(text):\n",
    "    # Remove punctuation characters\n",
    "    text = ''.join([char for char in text if char not in punctuation])\n",
    "    # Split on whitespace\n",
    "    tokens = text.split()\n",
    "    # Fold to lowercase\n",
    "    tokens = [token.lower() for token in tokens]\n",
    "    # Remove stopwords\n",
    "    tokens = [token for token in tokens if token not in sw]\n",
    "    return tokens\n",
    "\n",
    "# Read in the lyrics data\n",
    "lyrics_folder_path = os.path.join(data_location, lyrics_folder)\n",
    "\n",
    "# List all subfolders in the \"lyrics\" folder\n",
    "artist_folders = [f for f in os.listdir(lyrics_folder_path) if os.path.isdir(os.path.join(lyrics_folder_path, f))]\n",
    "\n",
    "# Create an empty list to store the content of each file\n",
    "lyrics_data = []\n",
    "\n",
    "# Iterate over each artist folder\n",
    "for artist_folder in artist_folders:\n",
    "    artist_folder_path = os.path.join(lyrics_folder_path, artist_folder)\n",
    "    \n",
    "    # List all text files in the current artist folder\n",
    "    text_files = [f for f in os.listdir(artist_folder_path) if f.endswith('.txt')]\n",
    "\n",
    "    # Iterate over each text file in the current artist folder\n",
    "    for text_file in text_files:\n",
    "        file_path = os.path.join(artist_folder_path, text_file)\n",
    "        \n",
    "        with open(file_path, 'r', encoding='utf-8') as file:\n",
    "            content = file.read()\n",
    "            cleaned_tokens = clean_and_tokenize(content)\n",
    "            \n",
    "            # Store the cleaned and tokenized data in the 'lyrics_data' list\n",
    "            lyrics_data.append({'artist': artist_folder, 'file_name': text_file, 'content': content, 'cleaned_tokens': cleaned_tokens})\n",
    "\n",
    "# Create a DataFrame from the 'lyrics_data' list\n",
    "lyrics_df = pd.DataFrame(lyrics_data)\n"
   ]
  },
  {
   "cell_type": "markdown",
   "id": "b0f77c82",
   "metadata": {},
   "source": [
    "## Basic Descriptive Statistics"
   ]
  },
  {
   "cell_type": "code",
   "execution_count": 44,
   "id": "980d6278",
   "metadata": {
    "scrolled": true
   },
   "outputs": [
    {
     "name": "stdout",
     "output_type": "stream",
     "text": [
      "There are 6 tokens in the data.\n",
      "There are 6 unique tokens in the data.\n",
      "There are 631 characters in the data.\n",
      "The lexical diversity is 1.000 in the data.\n",
      "The 6 most common tokens are:\n",
      "('come', 'stay', 'ill', 'send', 'away', 'false', 'pride', 'ill', 'forsake', 'life', 'yes', 'ill', 'true', 'true', 'youll', 'come', 'stay', 'lovers', 'past', 'ill', 'leave', 'behind', 'theyll', 'never', 'another', 'mind', 'ill', 'youll', 'feel', 'free', 'youll', 'come', 'stay', 'promise', 'made', 'faithfully', 'ill', 'keep', 'still', 'decide', 'leave', 'ill', 'try', 'see', 'need', 'youll', 'come', 'stay', 'yes', 'ill', 'true', 'true', 'youll', 'come', 'stay', 'live', 'life', 'others', 'ever', 'known', 'know', 'think', 'im', 'hardly', 'grown', 'oh', 'thank', 'god', 'last', 'finally', 'see', 'youre', 'gonna', 'stay', 'see', 'youre', 'gonna', 'stay'): 1 times\n",
      "('pirate', 'hell', 'sail', 'summer', 'wind', 'blows', 'day', 'everybody', 'calls', 'pirate', 'dark', 'handsome', 'way', 'fire', 'eyes', 'lit', 'fire', 'inside', 'soon', 'feeling', 'much', 'wind', 'waves', 'sea', 'pirate', 'im', 'gonna', 'take', 'soul', 'want', 'right', 'love', 'know', 'sea', 'wont', 'let', 'go', 'pirate', 'love', 'chain', 'know', 'much', 'love', 'turn', 'ship', 'around', 'every', 'time', 'hed', 'sail', 'back', 'wed', 'fall', 'love', 'face', 'would', 'fill', 'wonder', 'places', 'hes', 'knew', 'sweetest', 'love', 'song', 'heard', 'trade', 'winds', 'blow', 'loved', 'way', 'much', 'tell', 'secret', 'know', 'pirate', 'im', 'gonna', 'take', 'soul', 'want', 'right', 'love', 'know', 'sea', 'wont', 'let', 'go', 'pirate', 'love', 'chain', 'know', 'much', 'love', 'turn', 'ship', 'around', 'watch', 'silence', 'another', 'young', 'man', 'goes', 'sea', 'silhouette', 'stirrin', 'painful', 'memory', 'know', 'heart', 'set', 'sail', 'mine', 'set', 'cry', 'cause', 'feel', 'way', 'day', 'daddy', 'said', 'goodbye', 'told', 'pirate', 'im', 'gonna', 'take', 'soul', 'want', 'right', 'love', 'know', 'sea', 'wont', 'let', 'go', 'pirate', 'love', 'chain', 'know', 'much', 'love', 'turn', 'ship', 'around'): 1 times\n",
      "('stars', 'never', 'one', 'saying', 'really', 'feel', 'except', 'tonight', 'im', 'bringing', 'everything', 'know', 'thats', 'real', 'stars', 'come', 'go', 'come', 'fast', 'come', 'slow', 'go', 'like', 'last', 'light', 'sun', 'blaze', 'see', 'glory', 'hey', 'gets', 'lonely', 'theres', 'one', 'share', 'shake', 'away', 'hear', 'story', 'people', 'ask', 'fame', 'like', 'athletes', 'game', 'break', 'collarbones', 'come', 'swinging', 'us', 'downed', 'us', 'crowned', 'lost', 'never', 'found', 'seen', 'live', 'lives', 'sad', 'cafes', 'music', 'halls', 'always', 'come', 'singing', 'make', 'theyre', 'young', 'world', 'done', 'dirty', 'job', 'later', 'someone', 'say', 'youve', 'day', 'must', 'make', 'way', 'never', 'know', 'pain', 'living', 'name', 'youd', 'never', 'many', 'years', 'forgetting', 'know', 'well', 'ones', 'get', 'crown', 'let', 'yet', 'try', 'make', 'amends', 'without', 'defending', 'perhaps', 'pretending', 'never', 'saw', 'eyes', 'grown', 'men', 'twentyfive', 'follow', 'walk', 'ask', 'autographs', 'kiss', 'cheek', 'never', 'believe', 'really', 'love', 'make', 'theyre', 'old', 'perhaps', 'soul', 'theyre', 'afraid', 'bear', 'perhaps', 'theres', 'nothing', 'stars', 'come', 'go', 'come', 'fast', 'come', 'slow', 'go', 'like', 'last', 'light', 'sun', 'blaze', 'see', 'glory', 'seen', 'live', 'lives', 'sad', 'cafes', 'music', 'halls', 'always', 'come', 'singing', 'singing', 'singing', 'singing'): 1 times\n",
      "('days', 'well', 'ive', 'walking', 'dont', 'much', 'talking', 'days', 'days', 'days', 'seem', 'think', 'lot', 'things', 'forgot', 'oh', 'honey', 'times', 'chance', 'well', 'lover', 'lord', 'hard', 'risk', 'another', 'days', 'oh', 'days', 'seem', 'afraid', 'live', 'life', 'made', 'song', 'oh', 'yeah', 'well', 'ive', 'losing', 'losing', 'long', 'wonder', 'ill', 'ever', 'see', 'another', 'highway', 'well', 'ill', 'keep', 'moving', 'lord', 'things', 'bound', 'improving', 'days', 'one', 'days', 'days', 'sit', 'corner', 'stones', 'count', 'time', 'quarter', 'tones', 'till', 'ten', 'sweet', 'friend', 'please', 'dont', 'confront', 'failures', 'ive', 'forgotten', 'ive', 'forgotten', 'ive', 'forgotten', 'oh', 'oh'): 1 times\n",
      "('love', 'high', 'every', 'morning', 'would', 'wake', 'id', 'tie', 'sun', 'around', 'cup', 'felt', 'love', 'higher', 'sky', 'one', 'world', 'tasted', 'love', 'sweet', 'held', 'softer', 'rain', 'mi', 'amore', 'love', 'never', 'dies', 'mi', 'amore', 'look', 'eyes', 'love', 'high', 'could', 'never', 'walk', 'away', 'love', 'high', 'could', 'reach', 'touch', 'sky', 'tell', 'said', 'little', 'prayer', 'love', 'high', 'wake', 'middle', 'night', 'face', 'front', 'like', 'candle', 'burning', 'brighter', 'flame', 'see', 'everything', 'inside', 'eyes', 'smiles', 'touch', 'alibis', 'wish', 'could', 'night', 'mi', 'amore', 'wish', 'could', 'fly', 'mi', 'amore', 'look', 'eyes', 'tell', 'cant', 'see', 'anymore', 'times', 'ticking', 'away', 'still', 'want', 'everyday'): 1 times\n",
      "('every', 'begin', 'push', 'rock', 'mountain', 'though', 'im', 'learning', 'slow', 'think', 'know', 'step', 'aside', 'rock', 'begins', 'slide', 'bottom', 'valley', 'know', 'wont', 'crush', 'anymore', 'every', 'think', 'see', 'friend', 'push', 'rock', 'mountain', 'ah', 'getting', 'close', 'never', 'knew', 'step', 'aside', 'rock', 'begins', 'slide', 'bottom', 'valley', 'know', 'wont', 'crush', 'anymore', 'loves', 'simple', 'thing', 'youre', 'alone', 'finding', 'someone', 'care', 'reach', 'hes', 'slides', 'bottom', 'valley', 'know', 'wont', 'crush', 'anymore', 'go', 'faith', 'time', 'lend', 'push', 'rock', 'mountain', 'hope', 'wont', 'another', 'joke', 'step', 'aside', 'rock', 'begins', 'slide'): 1 times\n"
     ]
    }
   ],
   "source": [
    "# Call descriptive_stats for Cher lyrics\n",
    "cher_lyrics = lyrics_df[lyrics_df['artist'] == 'cher']['cleaned_tokens'].tolist()\n",
    "cher_lyrics = [tuple(tokens) for tokens in cher_lyrics]  # Convert lists to tuples\n",
    "cher_stats = descriptive_stats(cher_lyrics[:6])\n"
   ]
  },
  {
   "cell_type": "code",
   "execution_count": 45,
   "id": "b1205562",
   "metadata": {},
   "outputs": [
    {
     "name": "stdout",
     "output_type": "stream",
     "text": [
      "There are 6 tokens in the data.\n",
      "There are 6 unique tokens in the data.\n",
      "There are 1183 characters in the data.\n",
      "The lexical diversity is 1.000 in the data.\n",
      "The 6 most common tokens are:\n",
      "('include', 'really', 'simple', 'single', 'pulse', 'repeated', 'regular', 'interval', 'mmm', 'hmm', 'dont', 'include', 'dont', 'include', 'one', 'time', 'records', 'hits', 'two', 'moneymaker', 'shake', 'boom', 'three', 'times', 'lucky', 'dead', 'one', 'time', 'sorry', 'safe', 'two', 'beggar', 'company', 'three', 'times', 'sinner', 'saint', 'yeah', 'bow', 'wicked', 'vain', 'bow', 'miracle', 'em', 'na', 'na', 'three', 'times', 'devil', 'gone', 'one', 'time', 'fire', 'bring', 'two', 'boogie', 'gotta', 'bang', 'beat', 'three', 'times', 'ladies', 'show', 'love', 'talking', 'bout', 'everyone', 'every', 'day', 'day', 'world', 'fall', 'apart', 'theres', 'plenty', 'room', 'inside', 'heart', 'dont', 'include', 'dont', 'include', 'world', 'fall', 'apart', 'still', 'got', 'room', 'inside', 'heart', 'dont', 'include', 'dont', 'include', 'dddont', 'include', 'hail', 'mamas', 'hold', 'hail', 'pillar', 'family', 'ones', 'granny', 'take', 'bow', 'one', 'time', 'crazy', 'bent', 'come', 'trannies', 'click', 'heels', 'praise', 'fugeses', 'gems', 'talking', 'bout', 'everyone', 'every', 'day', 'day', 'oh', 'yeah', 'world', 'fall', 'apart', 'theres', 'plenty', 'room', 'inside', 'heart', 'dont', 'include', 'dont', 'include', 'world', 'fall', 'apart', 'still', 'got', 'room', 'inside', 'heart', 'dont', 'include', 'dont', 'include', 'dddont', 'include', 'get', 'beat', 'beat', 'watchamacallits', 'whatever', 'whoever', 'like', 'get', 'beat', 'beat', 'watchamacallits', 'whatever', 'whoever', 'like', 'get', 'bam', 'bam', 'watchamacallits', 'whatever', 'whoever', 'like', 'get', 'bam', 'bam', 'watchamacallits', 'whatever', 'whoever', 'like', 'im', 'talking', 'everyone', 'every', 'day', 'day', 'hey', 'world', 'fall', 'apart', 'theres', 'plenty', 'room', 'inside', 'heart', 'dont', 'include', 'dont', 'include', 'world', 'fall', 'apart', 'still', 'got', 'room', 'inside', 'heart', 'dont', 'include', 'dont', 'include', 'world', 'fall', 'apart', 'theres', 'plenty', 'room', 'inside', 'heart', 'dont', 'include', 'hey', 'hey', 'world', 'fall', 'apart', 'still', 'got', 'room', 'inside', 'heart', 'yeah', 'dont', 'include', 'hey'): 1 times\n",
      "('electric', 'electric', 'electric', 'natural', 'high', 'electric', 'dont', 'always', 'know', 'electric', 'keep', 'ego', 'aside', 'well', 'electric', 'thing', 'cant', 'deny', 'blood', 'boils', 'without', 'fire', 'day', 'come', 'day', 'go', 'without', 'desire', 'disturbs', 'flow', 'denial', 'night', 'falls', 'falls', 'take', 'higher', 'electric', 'natural', 'high', 'electric', 'dont', 'always', 'know', 'electric', 'keep', 'ego', 'aside', 'well', 'electric', 'thing', 'cant', 'deny', 'hard', 'question', 'needs', 'easy', 'answer', 'recognize', 'accept', 'need', 'censor', 'harder', 'fall', 'higher', 'bounce', 'smooth', 'moves', 'keeps', 'buoyancy', 'yeah', 'keeps', 'balance', 'ohh', 'ah', 'electric', 'natural', 'high', 'electric', 'dont', 'always', 'know', 'electric', 'keep', 'ego', 'aside', 'well', 'electric', 'thing', 'cant', 'deny', 'ohh', 'electric', 'electric', 'cant', 'deny', 'electric', 'electric', 'electric', 'oooh', 'yeah', 'yeah', 'yeah', 'eyes', 'child', 'love', 'moves', 'sun', 'stars', 'race', 'heart', 'somebody', 'dies', 'cry', 'think', 'shit', 'happens', 'yeah', 'happens', 'happens', 'thats', 'electric', 'natural', 'high', 'electric', 'dont', 'always', 'know', 'electric', 'keep', 'ego', 'aside', 'well', 'electric', 'thing', 'cant', 'deny', 'electric', 'natural', 'high', 'electric', 'dont', 'always', 'know', 'electric', 'keep', 'ego', 'aside', 'well', 'electric', 'thing', 'cant', 'deny', 'electric'): 1 times\n",
      "('beach', '2k20', 'wanna', 'go', 'gonna', 'get', 'ok', 'call', 'someone', 'alright', 'ok', 'cant', 'wait', 'go', 'ok', 'ok', 'ok', 'ok', 'ok', 'wanna', 'go', 'cute', 'place', 'beach', 'really', 'nice', 'food', 'gonna', 'get', 'mean', 'right', 'beach', 'come', 'itll', 'cool', 'call', 'someone', 'hmm', 'ok', 'place', 'beach', 'gotta', 'tell', 'ya', 'place', 'beach', 'party', 'baby', 'party', 'wanna', 'go', 'gonna', 'get', 'ok', 'call', 'someone', 'alright', 'ok', 'come', 'dont', 'wait', 'long', 'wanna', 'baby', 'oh', 'yeah', 'yeah', 'ok', 'cute', 'place', 'beach', 'really', 'nice', 'food', 'mean', 'right', 'beach', 'come', 'itll', 'cool', 'cute', 'place', 'beach', 'really', 'nice', 'food', 'mean', 'right', 'beach', 'come', 'itll', 'cool', 'wanna', 'go', 'ok', 'lets', 'go', 'party', 'call', 'someone', 'alright', 'lets', 'go', 'party', 'ok', 'cute', 'place', 'beach', 'really', 'nice', 'food', 'gonna', 'get', 'mean', 'right', 'beach', 'come', 'itll', 'cool', 'call', 'someone', 'cute', 'place', 'beach', 'really', 'nice', 'food', 'mean', 'right', 'beach', 'come', 'itll', 'cool', 'ok', 'party', 'party', 'party', 'party', 'place', 'beach', 'lets', 'go', 'party', 'lets', 'go', 'party', 'party', 'party', 'lets', 'go', 'party', 'oh', 'yeah', 'lets', 'go', 'party', 'lets', 'go', 'party', 'oh', 'yeah', 'lets', 'go', 'party', 'lets', 'go', 'party', 'lets', 'go', 'party', 'oh', 'yeah', 'party', 'baby'): 1 times\n",
      "('love', 'kills', 'youre', 'looking', 'love', 'get', 'heart', 'made', 'steel', 'cus', 'know', 'love', 'kills', 'dont', 'go', 'messing', 'love', 'itll', 'hurt', 'real', 'dont', 'know', 'love', 'kills', 'youre', 'looking', 'love', 'get', 'heart', 'made', 'steel', 'cus', 'know', 'love', 'kills', 'dont', 'go', 'messing', 'love', 'itll', 'hurt', 'real', 'dont', 'know', 'love', 'kills', 'protect', 'cus', 'youll', 'wreck', 'cold', 'hard', 'world', 'check', 'conceal', 'dreams', 'shield', 'til', 'one', 'kind', 'soul', 'reveals', 'protect', 'cus', 'youll', 'wreck', 'cold', 'hard', 'world', 'check', 'conceal', 'dreams', 'shield', 'til', 'one', 'kind', 'soul', 'reveals', 'youre', 'looking', 'love', 'get', 'heart', 'made', 'steel', 'cus', 'know', 'love', 'kills', 'dont', 'go', 'messing', 'love', 'itll', 'hurt', 'real', 'dont', 'know', 'love', 'kills', 'youre', 'looking', 'love', 'get', 'heart', 'made', 'steel', 'cus', 'know', 'love', 'kills', 'dont', 'go', 'messing', 'love', 'itll', 'hurt', 'real', 'dont', 'know', 'love', 'kills', 'mm', 'know', 'youre', 'deep', 'still', 'think', 'sometimes', 'stockholm', 'syndrome', 'misery', 'theres', 'penalty', 'love', 'crimes', 'protect', 'cus', 'youll', 'wreck', 'cold', 'hard', 'world', 'check', 'conceal', 'dreams', 'shield', 'til', 'one', 'kind', 'soul', 'reveals', 'protect', 'cus', 'youll', 'wreck', 'cold', 'hard', 'world', 'check', 'conceal', 'dreams', 'shield', 'til', 'one', 'kind', 'soul', 'reveals', 'protect', 'check', 'mm', 'know', 'youre', 'deep', 'think', 'sometimes', 'stockholm', 'syndrome', 'misery', 'theres', 'penalty', 'love', 'crimes', 'protect', 'cus', 'youll', 'wreck', 'cold', 'hard', 'world', 'cus', 'know', 'love', 'kills', 'conceal', 'dreams', 'shield', 'cold', 'hard', 'world', 'dont', 'know', 'love', 'kills', 'protect', 'cus', 'youll', 'wreck', 'cold', 'hard', 'world', 'cus', 'know', 'love', 'kills', 'conceal', 'dreams', 'shield', 'cold', 'hard', 'world', 'dont', 'know', 'love', 'kills', 'protect', 'cus', 'youll', 'wreck', 'cold', 'hard', 'world', 'cus', 'know', 'love', 'kills', 'conceal', 'dreams', 'shield', 'cold', 'hard', 'world', 'dont', 'know', 'love', 'kills'): 1 times\n",
      "('time', 'machine', 'hey', 'cant', 'believe', 'fit', 'threw', 'stupid', 'wanted', 'reaction', 'remember', 'words', 'said', 'would', 'hurt', 'regret', 'actions', 'could', 'press', 'rewind', 'rewind', 'take', 'redefine', 'line', 'make', 'mistakes', 'take', 'back', 'time', 'one', 'day', 'hey', 'need', 'time', 'machine', 'one', 'way', 'track', 'cause', 'im', 'taking', 'back', 'taking', 'back', 'want', 'delorean', 'could', 'go', 'like', 'ill', 'taking', 'back', 'taking', 'back', 'yeah', 'whos', 'laughing', 'didnt', 'think', 'youd', 'actually', 'go', 'stupid', 'bitching', 'second', 'thoughts', 'regrets', 'aint', 'science', 'fiction', 'could', 'press', 'rewind', 'rewind', 'take', 'redefine', 'line', 'make', 'mistakes', 'take', 'back', 'time', 'one', 'day', 'hey', 'need', 'time', 'machine', 'one', 'way', 'track', 'cause', 'im', 'taking', 'back', 'taking', 'back', 'want', 'delorean', 'could', 'go', 'like', 'ill', 'taking', 'back', 'taking', 'back', 'need', 'time', 'machine', 'one', 'way', 'track', 'cause', 'im', 'taking', 'back', 'taking', 'back', 'want', 'delorean', 'could', 'go', 'like', 'ill', 'taking', 'back', 'taking', 'back'): 1 times\n",
      "('love', 'kills', 'youre', 'looking', 'love', 'get', 'heart', 'made', 'steel', 'cus', 'know', 'love', 'kills', 'dont', 'go', 'messing', 'love', 'itll', 'hurt', 'real', 'dont', 'know', 'love', 'kills', 'youre', 'looking', 'love', 'get', 'heart', 'made', 'steel', 'cus', 'know', 'love', 'kills', 'dont', 'go', 'messing', 'love', 'itll', 'hurt', 'real', 'dont', 'know', 'love', 'kills', 'protect', 'cus', 'youll', 'wreck', 'cold', 'hard', 'world', 'check', 'conceal', 'dreams', 'shield', 'til', 'one', 'kind', 'soul', 'reveals', 'protect', 'cus', 'youll', 'wreck', 'cold', 'hard', 'world', 'check', 'conceal', 'dreams', 'shield', 'til', 'one', 'kind', 'soul', 'reveals', 'youre', 'looking', 'love', 'get', 'heart', 'made', 'steel', 'cus', 'know', 'love', 'kills', 'dont', 'go', 'messing', 'love', 'itll', 'hurt', 'real', 'dont', 'know', 'love', 'kills', 'youre', 'looking', 'love', 'get', 'heart', 'made', 'steel', 'cus', 'know', 'love', 'kills', 'dont', 'go', 'messing', 'love', 'itll', 'hurt', 'real', 'dont', 'know', 'love', 'kills', 'mm', 'know', 'youre', 'deep', 'still', 'think', 'sometimes', 'stockholm', 'syndrome', 'misery', 'theres', 'penalty', 'love', 'crimes', 'protect', 'cus', 'youll', 'wreck', 'cold', 'hard', 'world', 'check', 'conceal', 'dreams', 'shield', 'til', 'one', 'kind', 'soul', 'reveals', 'protect', 'cus', 'youll', 'wreck', 'cold', 'hard', 'world', 'check', 'conceal', 'dreams', 'shield', 'til', 'one', 'kind', 'soul', 'reveals', 'protect', 'check', 'mm', 'know', 'youre', 'deep', 'still', 'think', 'sometimes', 'stockholm', 'syndrome', 'misery', 'theres', 'penalty', 'love', 'crimes', 'protect', 'cus', 'youll', 'wreck', 'cold', 'hard', 'world', 'cus', 'know', 'love', 'kills', 'conceal', 'dreams', 'shield', 'cold', 'hard', 'world', 'dont', 'know', 'love', 'kills', 'protect', 'cus', 'youll', 'wreck', 'cold', 'hard', 'world', 'cus', 'know', 'love', 'kills', 'conceal', 'dreams', 'shield', 'cold', 'hard', 'world', 'dont', 'know', 'love', 'kills', 'protect', 'cus', 'youll', 'wreck', 'cold', 'hard', 'world', 'cus', 'know', 'love', 'kills', 'conceal', 'dreams', 'shield', 'cold', 'hard', 'world', 'dont', 'know', 'love', 'kills'): 1 times\n"
     ]
    }
   ],
   "source": [
    "# Call descriptive_stats for Robyn lyrics\n",
    "robyn_lyrics = lyrics_df[lyrics_df['artist'] == 'robyn']['cleaned_tokens'].tolist()\n",
    "robyn_lyrics = [tuple(tokens) for tokens in robyn_lyrics]  # Convert lists to tuples\n",
    "robyn_stats = descriptive_stats(robyn_lyrics[:6])\n"
   ]
  },
  {
   "cell_type": "code",
   "execution_count": 33,
   "id": "1a11f7eb",
   "metadata": {
    "scrolled": true
   },
   "outputs": [
    {
     "name": "stdout",
     "output_type": "stream",
     "text": [
      "There are 1 tokens in the data.\n",
      "There are 1 unique tokens in the data.\n",
      "There are 42404149 characters in the data.\n",
      "The lexical diversity is 1.000 in the data.\n",
      "The 1 most common tokens are:\n"
     ]
    },
    {
     "name": "stderr",
     "output_type": "stream",
     "text": [
      "IOPub data rate exceeded.\n",
      "The notebook server will temporarily stop sending output\n",
      "to the client in order to avoid crashing it.\n",
      "To change this limit, set the config variable\n",
      "`--NotebookApp.iopub_data_rate_limit`.\n",
      "\n",
      "Current values:\n",
      "NotebookApp.iopub_data_rate_limit=1000000.0 (bytes/sec)\n",
      "NotebookApp.rate_limit_window=3.0 (secs)\n",
      "\n"
     ]
    },
    {
     "data": {
      "text/plain": [
       "[1, 1, 1.0, 42404149]"
      ]
     },
     "metadata": {},
     "output_type": "display_data"
    },
    {
     "name": "stdout",
     "output_type": "stream",
     "text": [
      "\n",
      "\n"
     ]
    }
   ],
   "source": [
    "\n",
    "file_data_twitter = twitter_df[twitter_df['file_name'] == 'cher_followers_data.txt']['cleaned_tokens'].tolist()\n",
    "file_data_twitter = [tuple(tokens) for tokens in file_data_twitter]  # Convert lists to tuples\n",
    "\n",
    "# Call descriptive_stats for Twitter data associated with \"cher_followers_data.txt\" file\n",
    "file_data_stats = descriptive_stats(file_data_twitter)\n",
    "print(\"Descriptive Stats for Twitter Data - cher_followers_data.txt:\")\n",
    "display(file_data_stats[:5])\n",
    "print(\"\\n\")\n"
   ]
  },
  {
   "cell_type": "code",
   "execution_count": 28,
   "id": "a2312e11",
   "metadata": {
    "scrolled": true
   },
   "outputs": [
    {
     "name": "stderr",
     "output_type": "stream",
     "text": [
      "IOPub data rate exceeded.\n",
      "The notebook server will temporarily stop sending output\n",
      "to the client in order to avoid crashing it.\n",
      "To change this limit, set the config variable\n",
      "`--NotebookApp.iopub_data_rate_limit`.\n",
      "\n",
      "Current values:\n",
      "NotebookApp.iopub_data_rate_limit=1000000.0 (bytes/sec)\n",
      "NotebookApp.rate_limit_window=3.0 (secs)\n",
      "\n"
     ]
    },
    {
     "data": {
      "text/plain": [
       "[1, 1, 1.0, 3888265]"
      ]
     },
     "metadata": {},
     "output_type": "display_data"
    },
    {
     "name": "stdout",
     "output_type": "stream",
     "text": [
      "\n",
      "\n"
     ]
    }
   ],
   "source": [
    "\n",
    "file_data_twitter = twitter_df[twitter_df['file_name'] == 'robynkonichiwa_followers_data.txt']['cleaned_tokens'].tolist()\n",
    "file_data_twitter = [tuple(tokens) for tokens in file_data_twitter]  # Convert lists to tuples\n",
    "\n",
    "# Call descriptive_stats for Twitter data associated with \"robynkonichiwa_followers_data.txt\" file\n",
    "file_data_stats = descriptive_stats(file_data_twitter)\n",
    "print(\"Descriptive Stats for Twitter Data - robynkonichiwa_followers_data.txt:\")\n",
    "display(file_data_stats[:5])\n",
    "print(\"\\n\")\n"
   ]
  },
  {
   "cell_type": "markdown",
   "id": "3db2a1e6",
   "metadata": {},
   "source": [
    "Q: How do you think the \"top 5 words\" would be different if we left stopwords in the data?\n",
    "\n",
    "A:If stopwords are retained in the data, the \"top 5 words\" would probably encompass common English stopwords. These stopwords are ubiquitous words such as \"the,\" \"and,\" \"is,\" \"in,\" etc., and they are typically excluded in natural language processing tasks. The rationale behind removing stopwords lies in the understanding that these words contribute little value to discerning the meaning or sentiment of a text."
   ]
  },
  {
   "cell_type": "markdown",
   "id": "c7d59ddd",
   "metadata": {},
   "source": [
    "Q: What were your prior beliefs about the lexical diversity between the artists? Does the difference (or lack thereof) in lexical diversity between the artists conform to your prior beliefs?\n",
    "    \n",
    "A: They are have similar amout of vocabulary of the text. "
   ]
  },
  {
   "cell_type": "markdown",
   "id": "c1792952",
   "metadata": {},
   "source": [
    "## Specialty Statistics"
   ]
  },
  {
   "cell_type": "code",
   "execution_count": 30,
   "id": "cce2dbaf",
   "metadata": {},
   "outputs": [],
   "source": [
    "assert(emoji.is_emoji(\"❤️\"))\n",
    "assert(not emoji.is_emoji(\":-)\"))"
   ]
  },
  {
   "cell_type": "markdown",
   "id": "00e0e9f9",
   "metadata": {},
   "source": [
    "### Emojis"
   ]
  },
  {
   "cell_type": "code",
   "execution_count": 31,
   "id": "618e41dd",
   "metadata": {},
   "outputs": [
    {
     "name": "stdout",
     "output_type": "stream",
     "text": [
      "Top 10 Emojis by Artist:\n",
      "Series([], Name: emojis, dtype: float64)\n"
     ]
    }
   ],
   "source": [
    "#Emoji\n",
    "def extract_emojis(text):\n",
    "    return [c for c in text if c in emoji.UNICODE_EMOJI]\n",
    "\n",
    "# Apply the function to extract emojis and create a new column 'emojis'\n",
    "twitter_df['emojis'] = twitter_df['content'].apply(extract_emojis)\n",
    "\n",
    "# Group by artist and count the occurrence of each emoji\n",
    "emoji_counts_by_artist = twitter_df.groupby('artist')['emojis'].apply(lambda x: Counter([emoji for emojis in x for emoji in emojis]))\n",
    "\n",
    "# Identify the ten most common emojis for each artist\n",
    "top_emojis_by_artist = emoji_counts_by_artist.apply(lambda x: x.most_common(10))\n",
    "\n",
    "# Display the result\n",
    "print(\"Top 10 Emojis by Artist:\")\n",
    "print(top_emojis_by_artist)"
   ]
  },
  {
   "cell_type": "markdown",
   "id": "303f2324",
   "metadata": {},
   "source": [
    "### Hashtags"
   ]
  },
  {
   "cell_type": "code",
   "execution_count": 34,
   "id": "5d542781",
   "metadata": {},
   "outputs": [
    {
     "name": "stdout",
     "output_type": "stream",
     "text": [
      "Top 10 Hashtags:\n",
      "[('#BLM', 10445), ('#Resist', 6205), ('#BlackLivesMatter', 5244), ('#resist', 3888), ('#FBR', 3343), ('#1', 3339), ('#TheResistance', 3062), ('#blacklivesmatter', 2960), ('#Resistance', 1963), ('#LGBTQ', 1898)]\n"
     ]
    }
   ],
   "source": [
    "#Hashtags\n",
    "def extract_hashtags(text):\n",
    "    return re.findall(r'\\#\\w+', text)\n",
    "\n",
    "# Apply the function to extract hashtags and create a new column 'hashtags'\n",
    "twitter_df['hashtags'] = twitter_df['content'].apply(extract_hashtags)\n",
    "\n",
    "# Concatenate all hashtags across the entire DataFrame\n",
    "all_hashtags = [hashtag for hashtags in twitter_df['hashtags'] for hashtag in hashtags]\n",
    "\n",
    "# Count the occurrence of each hashtag\n",
    "hashtag_counts = Counter(all_hashtags)\n",
    "\n",
    "# Identify the ten most common hashtags\n",
    "top_hashtags = hashtag_counts.most_common(10)\n",
    "\n",
    "# Display the result\n",
    "print(\"Top 10 Hashtags:\")\n",
    "print(top_hashtags)"
   ]
  },
  {
   "cell_type": "markdown",
   "id": "9d92b541",
   "metadata": {},
   "source": [
    "### Song Titles"
   ]
  },
  {
   "cell_type": "code",
   "execution_count": 35,
   "id": "9e39202e",
   "metadata": {},
   "outputs": [
    {
     "name": "stdout",
     "output_type": "stream",
     "text": [
      "Five Most Common Words in Song Titles:\n",
      "[('The', 36), ('To', 34), ('You', 25), ('\"The', 25), ('Of', 23)]\n"
     ]
    }
   ],
   "source": [
    "#Song Titles\n",
    "def extract_song_titles(content):\n",
    "    lines = content.split('\\n')\n",
    "    if lines:\n",
    "        return lines[0].split()  # Assuming titles are space-separated words\n",
    "    else:\n",
    "        return []\n",
    "\n",
    "# Apply the function to extract song titles and create a new column 'song_titles'\n",
    "lyrics_df['song_titles'] = lyrics_df['content'].apply(extract_song_titles)\n",
    "\n",
    "# Group by artist and concatenate all song titles for each artist\n",
    "song_titles_by_artist = lyrics_df.groupby('artist')['song_titles'].apply(lambda x: [title for titles in x for title in titles])\n",
    "\n",
    "# Flatten the list of song titles\n",
    "all_song_titles = [title for titles in song_titles_by_artist for title in titles]\n",
    "\n",
    "# Count the occurrence of each word\n",
    "word_counts = Counter(all_song_titles)\n",
    "\n",
    "# Identify the five most common words\n",
    "top_words = word_counts.most_common(5)\n",
    "\n",
    "# Display the result\n",
    "print(\"Five Most Common Words in Song Titles:\")\n",
    "print(top_words)"
   ]
  },
  {
   "cell_type": "markdown",
   "id": "a00ef15c",
   "metadata": {},
   "source": [
    "### Song Lengths"
   ]
  },
  {
   "cell_type": "code",
   "execution_count": 36,
   "id": "28591243",
   "metadata": {},
   "outputs": [
    {
     "data": {
      "image/png": "[encoded data removed]",
      "text/plain": [
       "<Figure size 1000x600 with 1 Axes>"
      ]
     },
     "metadata": {},
     "output_type": "display_data"
    }
   ],
   "source": [
    "#Song Lengths\n",
    "def count_tokens(text):\n",
    "    return len(text.split())\n",
    "\n",
    "# Apply the function to calculate the number of tokens and create a new column 'song_length'\n",
    "lyrics_df['song_length'] = lyrics_df['content'].apply(count_tokens)\n",
    "\n",
    "# Create a DataFrame for song lengths with an 'artist' column\n",
    "song_lengths_df = pd.DataFrame({\n",
    "    \"artist\": lyrics_df['artist'],\n",
    "    \"length\": lyrics_df['song_length']\n",
    "})\n",
    "\n",
    "# Plot histograms of song lengths for each artist\n",
    "plt.figure(figsize=(10, 6))\n",
    "song_lengths_df.groupby('artist')['length'].plot(kind=\"hist\", density=True, alpha=0.5, legend=True)\n",
    "\n",
    "# Customize the plot\n",
    "plt.title(\"Histogram of Song Lengths by Artist\")\n",
    "plt.xlabel(\"Number of Tokens\")\n",
    "plt.ylabel(\"Density\")\n",
    "plt.legend(title='Artist')\n",
    "\n",
    "# Show the plot\n",
    "plt.show()"
   ]
  },
  {
   "cell_type": "markdown",
   "id": "c39c7ae8",
   "metadata": {},
   "source": [
    "Q: What does the regular expression '\\s+' match on?\n",
    "\n",
    "A: So, \\s+ will match one or more consecutive whitespace characters in a given text. When applied in the re.split() function, it effectively splits the text wherever it encounters one or more whitespace characters, and the resulting list contains the non-whitespace portions of the text."
   ]
  },
  {
   "cell_type": "code",
   "execution_count": 37,
   "id": "1c24e298",
   "metadata": {},
   "outputs": [],
   "source": [
    "collapse_whitespace = re.compile(r'\\s+')\n",
    "\n",
    "def tokenize_lyrics(lyric) : \n",
    "    \"\"\"strip and split on whitespace\"\"\"\n",
    "    return([item.lower() for item in collapse_whitespace.split(lyric)])"
   ]
  },
  {
   "cell_type": "code",
   "execution_count": 38,
   "id": "2f908b1f",
   "metadata": {},
   "outputs": [
    {
     "data": {
      "image/png": "[encoded data removed]",
      "text/plain": [
       "<Figure size 1200x800 with 1 Axes>"
      ]
     },
     "metadata": {},
     "output_type": "display_data"
    }
   ],
   "source": [
    "# Your lyric length comparison chart here. \n",
    "def count_tokens(text):\n",
    "    return len(text.split())\n",
    "\n",
    "# Apply the function to calculate the number of tokens and create a new column 'song_length'\n",
    "lyrics_df['song_length'] = lyrics_df['content'].apply(count_tokens)\n",
    "\n",
    "# Create a DataFrame for song lengths with an 'artist' column\n",
    "song_lengths_df = pd.DataFrame({\n",
    "    \"artist\": lyrics_df['artist'],\n",
    "    \"length\": lyrics_df['song_length']\n",
    "})\n",
    "\n",
    "# Plot a comparison chart of lyric lengths\n",
    "plt.figure(figsize=(12, 8))\n",
    "sns.boxplot(x='artist', y='length', data=song_lengths_df)\n",
    "\n",
    "# Customize the plot\n",
    "plt.title(\"Comparison of Lyric Lengths by Artist\")\n",
    "plt.xlabel(\"Artist\")\n",
    "plt.ylabel(\"Number of Tokens\")\n",
    "\n",
    "# Show the plot\n",
    "plt.show()"
   ]
  }
 ],
 "metadata": {
  "kernelspec": {
   "display_name": "Python 3 (ipykernel)",
   "language": "python",
   "name": "python3"
  },
  "language_info": {
   "codemirror_mode": {
    "name": "ipython",
    "version": 3
   },
   "file_extension": ".py",
   "mimetype": "text/x-python",
   "name": "python",
   "nbconvert_exporter": "python",
   "pygments_lexer": "ipython3",
   "version": "3.9.6"
  }
 },
 "nbformat": 4,
 "nbformat_minor": 5
}
